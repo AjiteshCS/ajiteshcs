{
 "cells": [
  {
   "cell_type": "code",
   "execution_count": null,
   "id": "awful-jordan",
   "metadata": {},
   "outputs": [],
   "source": [
    "import pandas as pd\n",
    "import numpy as np\n",
    "import seaborn as sns\n",
    "import matplotlib.pyplot as plt\n",
    "from sklearn.feature_extraction.text import TfidfVectorizer\n",
    "from sklearn.naive_bayes import MultinomialNB\n",
    "from sklearn.model_selection import train_test_split\n",
    "from sklearn.metrics import accuracy_score, recall_score\n",
    "from sklearn.linear_model import LogisticRegression\n",
    "from sklearn.preprocessing import StandardScaler\n",
    "from sklearn.metrics import confusion_matrix\n",
    "from sklearn.model_selection import GridSearchCV\n",
    "df=pd.read_csv('/home/ajitesh/ML/PasswordStrength/data.csv',error_bad_lines=False,warn_bad_lines=False)\n",
    "\n",
    "# print(\"shape of the data is \",df.shape)\n",
    "# print(\"=\"*50)\n",
    "# print(df.info())\n",
    "#observation , find that one password is missing in data.\n"
   ]
  },
  {
   "cell_type": "code",
   "execution_count": null,
   "id": "solar-malaysia",
   "metadata": {},
   "outputs": [],
   "source": [
    "df.loc[pd.isnull(df[\"password\"])==True]"
   ]
  },
  {
   "cell_type": "code",
   "execution_count": null,
   "id": "solid-denver",
   "metadata": {},
   "outputs": [],
   "source": [
    "df.dropna(axis=0,inplace=True)"
   ]
  },
  {
   "cell_type": "code",
   "execution_count": null,
   "id": "failing-european",
   "metadata": {},
   "outputs": [],
   "source": [
    "sns.countplot(x='strength',data=df)\n",
    "plt.show()\n",
    "#observation , it is multiclass problem and dataset contain strong password, highly imbalance data"
   ]
  },
  {
   "cell_type": "code",
   "execution_count": null,
   "id": "curious-english",
   "metadata": {},
   "outputs": [],
   "source": [
    "df['password']=df['password'].astype(str)\n",
    "df['length']=df['password'].astype(str).apply(lambda x:len(x))\n",
    "#strength wise average length\n",
    "\n",
    "sns.barplot(x ='strength', y ='length', data = df,palette ='plasma', estimator = np.mean)\n",
    "plt.show()"
   ]
  },
  {
   "cell_type": "code",
   "execution_count": null,
   "id": "surgical-respondent",
   "metadata": {},
   "outputs": [],
   "source": [
    "# strength wise std dev length\n",
    "sns.barplot(x ='strength', y ='length', data = df,palette ='plasma',estimator = np.std)\n",
    "plt.show()"
   ]
  },
  {
   "cell_type": "code",
   "execution_count": null,
   "id": "biblical-ridge",
   "metadata": {},
   "outputs": [],
   "source": [
    "sns.catplot(x=\"strength\", y=\"length\", data=df)"
   ]
  },
  {
   "cell_type": "code",
   "execution_count": null,
   "id": "abandoned-spring",
   "metadata": {},
   "outputs": [],
   "source": [
    "#from above figure I am sure that length>60 of strength=2 will be outlier\n",
    "df.drop(df[df['length']>60].index,inplace=True)\n",
    "sns.catplot(x=\"strength\", y=\"length\", data=df)\n",
    "plt.show()"
   ]
  },
  {
   "cell_type": "code",
   "execution_count": null,
   "id": "regular-guest",
   "metadata": {},
   "outputs": [],
   "source": [
    "#length will be one feature here ,\n",
    "#if length<10 will be weak passsword , greater than 10 and less than 15 will be medium password ,length > 15 will be strong password \n",
    "\n",
    "df['Non Alpha'] = df['password'].str.count(r'[^a-zA-Z]')\n",
    "df['percentage_Non_Alpha']=np.array(df['Non Alpha']/df['length'])\n"
   ]
  },
  {
   "cell_type": "code",
   "execution_count": null,
   "id": "private-embassy",
   "metadata": {},
   "outputs": [],
   "source": []
  },
  {
   "cell_type": "code",
   "execution_count": null,
   "id": "greek-treasury",
   "metadata": {},
   "outputs": [],
   "source": [
    "#observation is non alphabetic charater feature is useful somehow , but it will not impact much . SO I can discard \n",
    "Y=df['strength'].values\n",
    "X=df[['password','length']].values\n",
    "# X_length_feature=df['length'].values\n",
    "# df.drop(['Non Alpha','percentage_Non_Alpha','strength'],axis=1,inplace=True)"
   ]
  },
  {
   "cell_type": "code",
   "execution_count": null,
   "id": "suitable-monster",
   "metadata": {},
   "outputs": [],
   "source": [
    "X_train, X_test, y_train, y_test = train_test_split(X, Y, test_size=0.30, random_state=42)\n",
    "# X_train,X_cv,y_train,y_cv=train_test_split(X_train, y_train, test_size=0.10, random_state=42)\n",
    "\n",
    "\n",
    "print(X_train.shape[0])\n",
    "train_data_size=X_train.shape[0]\n",
    "print(\"Length of trainging data is {}\".format(train_data_size))\n",
    "X_train_text=X_train[:,0]\n",
    "X_train_length=X_train[:,1]\n",
    "\n",
    "X_test_text=X_test[:,0]\n",
    "X_test_length=X_test[:,1]\n",
    "test_data_size=X_test.shape[0]\n",
    "\n",
    "print(\"length of test data is{}\".format(test_data_size))\n",
    "X_train_length=X_train_length.reshape(train_data_size,1)\n",
    "X_test_length=X_test_length.reshape(test_data_size,1)\n",
    "vectorizer = TfidfVectorizer(min_df=10,analyzer='char')\n",
    "tfidf_matrix= vectorizer.fit_transform(X_train_text)\n",
    "\n"
   ]
  },
  {
   "cell_type": "code",
   "execution_count": null,
   "id": "irish-bookmark",
   "metadata": {},
   "outputs": [],
   "source": [
    "# df = pd.DataFrame(tfidf_matrix.toarray(), columns = vectorizer.get_feature_names())\n",
    "\n",
    "tf_idf_matrix_np = tfidf_matrix.toarray()\n",
    "\n",
    "final_train_matrix=np.hstack((tf_idf_matrix_np,X_train_length))\n",
    "\n",
    "X_test=vectorizer.transform(X_test_text)\n",
    "clf=LogisticRegression( max_iter=100,class_weight='balanced',solver='liblinear')\n",
    "final_test_matrix=np.hstack((X_test.toarray(),X_test_length))\n",
    "final_train_matrix_without_scaling = final_train_matrix\n",
    "final_test_matrix_without_scaling = final_test_matrix\n",
    "scaler = StandardScaler()\n",
    "final_train_matrix=scaler.fit_transform(final_train_matrix)\n",
    "final_test_matrix=scaler.transform(final_test_matrix)\n",
    "clf.fit(final_train_matrix,y_train)\n",
    "y_predict=clf.predict(final_test_matrix)\n",
    "print(accuracy_score(y_test,y_predict))\n"
   ]
  },
  {
   "cell_type": "code",
   "execution_count": null,
   "id": "incorporate-niger",
   "metadata": {},
   "outputs": [],
   "source": [
    "cm=confusion_matrix(y_test, y_predict)\n",
    "plt.figure(figsize=(20,20))\n",
    "sns.heatmap(cm,annot=True,linecolor=\"yellow\",linewidths=2,square=4,fmt=\"d\")\n",
    "plt.ylabel(\"Actual Label\")\n",
    "plt.xlabel(\"Predicted Label\")\n",
    "plt.show()"
   ]
  },
  {
   "cell_type": "code",
   "execution_count": null,
   "id": "buried-spirituality",
   "metadata": {},
   "outputs": [],
   "source": [
    "print(clf.score(final_train_matrix,y_train))\n",
    "print(clf.score(final_test_matrix,y_test))"
   ]
  },
  {
   "cell_type": "code",
   "execution_count": null,
   "id": "intelligent-projector",
   "metadata": {},
   "outputs": [],
   "source": [
    "# here training error and test error are same so model is not neither overfitting nor underfitting \n",
    "# So for logistic regression we dont need more hyper parameter tuning "
   ]
  },
  {
   "cell_type": "code",
   "execution_count": 89,
   "id": "apparent-lecture",
   "metadata": {},
   "outputs": [
    {
     "name": "stdout",
     "output_type": "stream",
     "text": [
      "Fitting 3 folds for each of 9 candidates, totalling 27 fits\n",
      "[CV 1/3] END ........................................alpha=1; total time=   0.8s\n",
      "[CV 2/3] END ........................................alpha=1; total time=   0.8s\n",
      "[CV 3/3] END ........................................alpha=1; total time=   0.8s\n",
      "[CV 1/3] END ......................................alpha=0.1; total time=   0.8s\n",
      "[CV 2/3] END ......................................alpha=0.1; total time=   0.8s\n",
      "[CV 3/3] END ......................................alpha=0.1; total time=   0.8s\n",
      "[CV 1/3] END .....................................alpha=0.01; total time=   0.8s\n",
      "[CV 2/3] END .....................................alpha=0.01; total time=   0.8s\n",
      "[CV 3/3] END .....................................alpha=0.01; total time=   0.8s\n",
      "[CV 1/3] END ....................................alpha=0.001; total time=   0.7s\n",
      "[CV 2/3] END ....................................alpha=0.001; total time=   0.7s\n",
      "[CV 3/3] END ....................................alpha=0.001; total time=   0.7s\n",
      "[CV 1/3] END ...................................alpha=0.0001; total time=   0.7s\n",
      "[CV 2/3] END ...................................alpha=0.0001; total time=   0.7s\n",
      "[CV 3/3] END ...................................alpha=0.0001; total time=   0.7s\n",
      "[CV 1/3] END ....................................alpha=1e-05; total time=   0.7s\n",
      "[CV 2/3] END ....................................alpha=1e-05; total time=   0.7s\n",
      "[CV 3/3] END ....................................alpha=1e-05; total time=   0.7s\n",
      "[CV 1/3] END .......................................alpha=10; total time=   0.7s\n",
      "[CV 2/3] END .......................................alpha=10; total time=   0.7s\n",
      "[CV 3/3] END .......................................alpha=10; total time=   0.7s\n",
      "[CV 1/3] END ......................................alpha=100; total time=   0.7s\n",
      "[CV 2/3] END ......................................alpha=100; total time=   0.7s\n",
      "[CV 3/3] END ......................................alpha=100; total time=   0.7s\n",
      "[CV 1/3] END ......................................alpha=200; total time=   0.7s\n",
      "[CV 2/3] END ......................................alpha=200; total time=   0.7s\n",
      "[CV 3/3] END ......................................alpha=200; total time=   0.7s\n",
      "best parameter{'alpha': 0.1}\n",
      "[0.25442140876417696, 0.25440967523628044, 0.25441180860374757, 0.25441180860374757, 0.25441180860374757, 0.25441180860374757, 0.25457181133104767, 0.2555083606424692, 0.2560993041204046] [0.25442140876417696, 0.25440967523628044, 0.25441180860374757, 0.25441180860374757, 0.25441180860374757, 0.25441180860374757, 0.25457181133104767, 0.2555083606424692, 0.2560993041204046]\n",
      "[0.74557859 0.74559032 0.74558819 0.74558819 0.74558819 0.74558819\n",
      " 0.74542819 0.74449164 0.7439007 ]\n",
      "[0.74551886 0.74554446 0.74554232 0.74554232 0.74554019 0.74554019\n",
      " 0.74532045 0.74448417 0.74388896]\n"
     ]
    },
    {
     "data": {
      "image/png": "[encoded data removed]",
      "text/plain": [
       "<Figure size 432x288 with 1 Axes>"
      ]
     },
     "metadata": {
      "needs_background": "light"
     },
     "output_type": "display_data"
    }
   ],
   "source": [
    "from sklearn.naive_bayes import MultinomialNB\n",
    "parameters = {  \n",
    "'alpha': (1, 0.1, 0.01, 0.001, 0.0001, 0.00001,10,100,200)  \n",
    "}\n",
    "clf=MultinomialNB()\n",
    "\n",
    "grid_search= GridSearchCV(clf, parameters,verbose=4,cv=3,return_train_score=True,refit=True)\n",
    "grid_search.fit(final_train_matrix_without_scaling,y_train)\n",
    "print(\"best parameter{}\".format(grid_search.best_params_))\n",
    "\n",
    "\n",
    "x=grid_search.cv_results_['mean_train_score']\n",
    "y=grid_search.cv_results_['mean_test_score']\n",
    "train_error=[1-i for i in x]\n",
    "test_error=[1-i for i in x]\n",
    "print(train_error,test_error)\n",
    "\n",
    "print(x)\n",
    "print(y)\n",
    "plt.plot(parameters['alpha'],train_error,)\n",
    "plt.plot(parameters['alpha'],test_error)\n",
    "plt.show()\n"
   ]
  },
  {
   "cell_type": "code",
   "execution_count": null,
   "id": "honest-brook",
   "metadata": {},
   "outputs": [],
   "source": [
    "\n"
   ]
  },
  {
   "cell_type": "code",
   "execution_count": null,
   "id": "filled-devon",
   "metadata": {},
   "outputs": [],
   "source": []
  },
  {
   "cell_type": "code",
   "execution_count": null,
   "id": "australian-candy",
   "metadata": {},
   "outputs": [],
   "source": []
  },
  {
   "cell_type": "code",
   "execution_count": null,
   "id": "promotional-lightning",
   "metadata": {},
   "outputs": [],
   "source": []
  }
 ],
 "metadata": {
  "kernelspec": {
   "display_name": "Python 3",
   "language": "python",
   "name": "python3"
  },
  "language_info": {
   "codemirror_mode": {
    "name": "ipython",
    "version": 3
   },
   "file_extension": ".py",
   "mimetype": "text/x-python",
   "name": "python",
   "nbconvert_exporter": "python",
   "pygments_lexer": "ipython3",
   "version": "3.7.3"
  }
 },
 "nbformat": 4,
 "nbformat_minor": 5
}
